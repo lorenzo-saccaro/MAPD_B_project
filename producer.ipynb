{
 "cells": [
  {
   "cell_type": "code",
   "execution_count": 1,
   "outputs": [],
   "source": [
    "## PARAMETERS ##\n",
    "\n",
    "N_PARTITIONS = 3\n",
    "BOOTSTRAP_SERVER = '10.67.22.61'\n",
    "MSG_RATE = 1000 # number of messages per second\n",
    "\n",
    "# parameters for artificial rate control\n",
    "BATCH_FRACTION = 0.1 # can't be lower than 0.1 this (problem with sleep function time resolution see https://stackoverflow.com/questions/1133857/how-accurate-is-pythons-time-sleep)\n",
    "BATCH_SIZE = int(max(0.1*MSG_RATE, BATCH_FRACTION*MSG_RATE)) # number of messages between each rate control\n"
   ],
   "metadata": {
    "collapsed": false,
    "pycharm": {
     "name": "#%%\n"
    }
   }
  },
  {
   "cell_type": "markdown",
   "source": [
    "# ADMIN SECTION: create and delete partitions"
   ],
   "metadata": {
    "collapsed": false,
    "pycharm": {
     "name": "#%% md\n"
    }
   }
  },
  {
   "cell_type": "code",
   "execution_count": 2,
   "outputs": [],
   "source": [
    "from  confluent_kafka.admin import AdminClient, NewTopic"
   ],
   "metadata": {
    "collapsed": false,
    "pycharm": {
     "name": "#%%\n"
    }
   }
  },
  {
   "cell_type": "code",
   "execution_count": 3,
   "outputs": [],
   "source": [
    "kafka_admin = AdminClient({'bootstrap.servers':BOOTSTRAP_SERVER})"
   ],
   "metadata": {
    "collapsed": false,
    "pycharm": {
     "name": "#%%\n"
    }
   }
  },
  {
   "cell_type": "code",
   "execution_count": 4,
   "outputs": [],
   "source": [
    "def create_topics(admin, topics):\n",
    "    \"\"\" Create topics \"\"\"\n",
    "\n",
    "    new_topics = [NewTopic(topic, num_partitions=N_PARTITIONS, replication_factor=1) for topic in topics]\n",
    "    # Call create_topics to asynchronously create topics, a dict\n",
    "    # of <topic,future> is returned.\n",
    "    fs = admin.create_topics(new_topics, request_timeout=15.0)\n",
    "\n",
    "    # Wait for operation to finish.\n",
    "    # Timeouts are preferably controlled by passing request_timeout=15.0\n",
    "    # to the create_topics() call.\n",
    "    # All futures will finish at the same time.\n",
    "    for topic, f in fs.items():\n",
    "        try:\n",
    "            f.result()  # The result itself is None\n",
    "            print(\"Topic {} created\".format(topic))\n",
    "        except Exception as e:\n",
    "            print(\"Failed to create topic {}: {}\".format(topic, e))"
   ],
   "metadata": {
    "collapsed": false,
    "pycharm": {
     "name": "#%%\n"
    }
   }
  },
  {
   "cell_type": "code",
   "execution_count": 5,
   "outputs": [],
   "source": [
    "def delete_topics(admin, topics):\n",
    "    \"\"\" delete topics \"\"\"\n",
    "\n",
    "    # Call delete_topics to asynchronously delete topics, a future is returned.\n",
    "    # By default, this operation on the broker returns immediately while\n",
    "    # topics are deleted in the background. But here we give it some time (30s)\n",
    "    # to propagate in the cluster before returning.\n",
    "    #\n",
    "    # Returns a dict of <topic,future>.\n",
    "    fs = admin.delete_topics(topics, operation_timeout=30)\n",
    "\n",
    "    # Wait for operation to finish.\n",
    "    for topic, f in fs.items():\n",
    "        try:\n",
    "            f.result()  # The result itself is None\n",
    "            print(\"Topic {} deleted\".format(topic))\n",
    "        except Exception as e:\n",
    "            print(\"Failed to delete topic {}: {}\".format(topic, e))"
   ],
   "metadata": {
    "collapsed": false,
    "pycharm": {
     "name": "#%%\n"
    }
   }
  },
  {
   "cell_type": "code",
   "execution_count": 6,
   "outputs": [
    {
     "name": "stdout",
     "output_type": "stream",
     "text": [
      "Topic data deleted\n"
     ]
    }
   ],
   "source": [
    "delete_topics(kafka_admin, ['data'])"
   ],
   "metadata": {
    "collapsed": false,
    "pycharm": {
     "name": "#%%\n"
    }
   }
  },
  {
   "cell_type": "code",
   "execution_count": 7,
   "outputs": [
    {
     "name": "stdout",
     "output_type": "stream",
     "text": [
      "Topic data created\n"
     ]
    }
   ],
   "source": [
    "## check if topic already exits otherwise create it\n",
    "topic_name = 'data'\n",
    "if not topic_name in kafka_admin.list_topics().topics.keys():\n",
    "    create_topics(kafka_admin, [topic_name])\n",
    "else:\n",
    "    print(\"Topic \" + topic_name + \" already exists\")"
   ],
   "metadata": {
    "collapsed": false,
    "pycharm": {
     "name": "#%%\n"
    }
   }
  },
  {
   "cell_type": "markdown",
   "source": [
    "# Connect to bucket"
   ],
   "metadata": {
    "collapsed": false,
    "pycharm": {
     "name": "#%% md\n"
    }
   }
  },
  {
   "cell_type": "code",
   "execution_count": 8,
   "outputs": [],
   "source": [
    "import boto3"
   ],
   "metadata": {
    "collapsed": false,
    "pycharm": {
     "name": "#%%\n"
    }
   }
  },
  {
   "cell_type": "code",
   "execution_count": 9,
   "outputs": [],
   "source": [
    "s3_client = boto3.client('s3', endpoint_url='https://cloud-areapd.pd.infn.it:5210', verify=False)"
   ],
   "metadata": {
    "collapsed": false,
    "pycharm": {
     "name": "#%%\n"
    }
   }
  },
  {
   "cell_type": "markdown",
   "source": [
    "# Create producer and send messages at specified rate"
   ],
   "metadata": {
    "collapsed": false,
    "pycharm": {
     "name": "#%% md\n"
    }
   }
  },
  {
   "cell_type": "code",
   "execution_count": 10,
   "outputs": [],
   "source": [
    "from confluent_kafka import Producer\n",
    "import time"
   ],
   "metadata": {
    "collapsed": false,
    "pycharm": {
     "name": "#%%\n"
    }
   }
  },
  {
   "cell_type": "code",
   "execution_count": 11,
   "outputs": [],
   "source": [
    "producer = Producer({'bootstrap.servers':BOOTSTRAP_SERVER,\n",
    "                     'linger.ms':20, # delay in ms before messages are sent if batch size is not reached\n",
    "                     'batch.size':16384}) # maximum batch size before messages are sent"
   ],
   "metadata": {
    "collapsed": false,
    "pycharm": {
     "name": "#%%\n"
    }
   }
  },
  {
   "cell_type": "code",
   "execution_count": 12,
   "outputs": [
    {
     "name": "stderr",
     "output_type": "stream",
     "text": [
      "/usr/lib/python3/dist-packages/urllib3/connectionpool.py:999: InsecureRequestWarning: Unverified HTTPS request is being made to host 'cloud-areapd.pd.infn.it'. Adding certificate verification is strongly advised. See: https://urllib3.readthedocs.io/en/latest/advanced-usage.html#ssl-warnings\n",
      "  warnings.warn(\n",
      "/usr/lib/python3/dist-packages/urllib3/connectionpool.py:999: InsecureRequestWarning: Unverified HTTPS request is being made to host 'cloud-areapd.pd.infn.it'. Adding certificate verification is strongly advised. See: https://urllib3.readthedocs.io/en/latest/advanced-usage.html#ssl-warnings\n",
      "  warnings.warn(\n"
     ]
    },
    {
     "ename": "KeyboardInterrupt",
     "evalue": "",
     "output_type": "error",
     "traceback": [
      "\u001B[0;31m---------------------------------------------------------------------------\u001B[0m",
      "\u001B[0;31mKeyboardInterrupt\u001B[0m                         Traceback (most recent call last)",
      "Input \u001B[0;32mIn [12]\u001B[0m, in \u001B[0;36m<cell line: 5>\u001B[0;34m()\u001B[0m\n\u001B[1;32m     16\u001B[0m     batch_count \u001B[38;5;241m+\u001B[39m\u001B[38;5;241m=\u001B[39m \u001B[38;5;241m1\u001B[39m \u001B[38;5;66;03m# update counter\u001B[39;00m\n\u001B[1;32m     17\u001B[0m     \u001B[38;5;28;01mif\u001B[39;00m batch_count \u001B[38;5;241m==\u001B[39m BATCH_SIZE: \u001B[38;5;66;03m# add artificial rate control\u001B[39;00m\n\u001B[0;32m---> 18\u001B[0m         \u001B[43mtime\u001B[49m\u001B[38;5;241;43m.\u001B[39;49m\u001B[43msleep\u001B[49m\u001B[43m(\u001B[49m\u001B[43mBATCH_SIZE\u001B[49m\u001B[38;5;241;43m/\u001B[39;49m\u001B[43mMSG_RATE\u001B[49m\u001B[43m)\u001B[49m\n\u001B[1;32m     19\u001B[0m         batch_count \u001B[38;5;241m=\u001B[39m \u001B[38;5;241m0\u001B[39m \u001B[38;5;66;03m# reset counter\u001B[39;00m\n\u001B[1;32m     21\u001B[0m producer\u001B[38;5;241m.\u001B[39mflush()\n",
      "\u001B[0;31mKeyboardInterrupt\u001B[0m: "
     ]
    }
   ],
   "source": [
    "\n",
    "bucket_name = 'mapd-minidt-stream'\n",
    "batch_count = 0 # counter for artificial delay\n",
    "\n",
    "# read all lines from all files in the bucket\n",
    "for key in s3_client.list_objects(Bucket=bucket_name)['Contents']:\n",
    "\n",
    "    # create line iterator\n",
    "    line_reader = s3_client.get_object(Bucket=bucket_name, Key=key['Key'])['Body'].iter_lines()\n",
    "\n",
    "    next(line_reader) # skip header line for each file\n",
    "\n",
    "    for line in line_reader:\n",
    "\n",
    "        producer.produce(topic_name, line) # produce message\n",
    "        producer.poll(0) # pool producer (asynch process, message are actually sent following criteria)\n",
    "        batch_count += 1 # update counter\n",
    "        if batch_count == BATCH_SIZE: # add artificial rate control\n",
    "            time.sleep(BATCH_SIZE/MSG_RATE)\n",
    "            batch_count = 0 # reset counter\n",
    "\n",
    "    producer.flush() # wait for last messages to be sent"
   ],
   "metadata": {
    "collapsed": false,
    "pycharm": {
     "name": "#%%\n"
    }
   }
  },
  {
   "cell_type": "code",
   "execution_count": null,
   "outputs": [],
   "source": [],
   "metadata": {
    "collapsed": false,
    "pycharm": {
     "name": "#%%\n"
    }
   }
  }
 ],
 "metadata": {
  "kernelspec": {
   "display_name": "Python 3",
   "language": "python",
   "name": "python3"
  },
  "language_info": {
   "codemirror_mode": {
    "name": "ipython",
    "version": 2
   },
   "file_extension": ".py",
   "mimetype": "text/x-python",
   "name": "python",
   "nbconvert_exporter": "python",
   "pygments_lexer": "ipython2",
   "version": "2.7.6"
  }
 },
 "nbformat": 4,
 "nbformat_minor": 0
}